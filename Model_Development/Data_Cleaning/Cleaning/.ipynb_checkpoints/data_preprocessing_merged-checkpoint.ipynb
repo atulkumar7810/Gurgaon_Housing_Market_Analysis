{
 "cells": [
  {
   "cell_type": "code",
   "execution_count": 13,
   "id": "443df67e",
   "metadata": {},
   "outputs": [],
   "source": [
    "import pandas as pd\n",
    "import numpy as np"
   ]
  },
  {
   "cell_type": "code",
   "execution_count": 14,
   "id": "c41f44d5",
   "metadata": {},
   "outputs": [],
   "source": [
    "# Display all the columns and rows\n",
    "pd.set_option('display.max_rows', 10)\n",
    "pd.set_option('display.max_columns', None)"
   ]
  },
  {
   "cell_type": "code",
   "execution_count": 15,
   "id": "23ef2d0d",
   "metadata": {},
   "outputs": [],
   "source": [
    "# Importing 2 datasets to merge (Flats and Independent houses data)\n",
    "flats = pd.read_csv('../../Data_Scraping/Data/Gurgaon/Flats/flats_cleaned.csv')\n",
    "house = pd.read_csv('../../Data_Scraping/Data/Gurgaon/Independent_House/ind_house_cleaned.csv')"
   ]
  },
  {
   "cell_type": "code",
   "execution_count": 16,
   "id": "d9e73260",
   "metadata": {},
   "outputs": [
    {
     "name": "stdout",
     "output_type": "stream",
     "text": [
      "<class 'pandas.core.frame.DataFrame'>\n",
      "RangeIndex: 964 entries, 0 to 963\n",
      "Data columns (total 20 columns):\n",
      " #   Column           Non-Null Count  Dtype  \n",
      "---  ------           --------------  -----  \n",
      " 0   property_name    964 non-null    object \n",
      " 1   property_type    964 non-null    object \n",
      " 2   society          964 non-null    object \n",
      " 3   price            945 non-null    float64\n",
      " 4   price_per_sqft   945 non-null    float64\n",
      " 5   area             945 non-null    float64\n",
      " 6   areaWithType     964 non-null    object \n",
      " 7   bedRoom          964 non-null    int64  \n",
      " 8   bathroom         964 non-null    int64  \n",
      " 9   balcony          964 non-null    object \n",
      " 10  additionalRoom   964 non-null    object \n",
      " 11  address          959 non-null    object \n",
      " 12  floorNum         945 non-null    float64\n",
      " 13  facing           661 non-null    object \n",
      " 14  agePossession    964 non-null    object \n",
      " 15  nearbyLocations  848 non-null    object \n",
      " 16  description      964 non-null    object \n",
      " 17  furnishDetails   729 non-null    object \n",
      " 18  features         662 non-null    object \n",
      " 19  rating           843 non-null    object \n",
      "dtypes: float64(4), int64(2), object(14)\n",
      "memory usage: 150.8+ KB\n"
     ]
    }
   ],
   "source": [
    "house.info()"
   ]
  },
  {
   "cell_type": "code",
   "execution_count": 17,
   "id": "89c159a3",
   "metadata": {},
   "outputs": [
    {
     "data": {
      "text/plain": [
       "(964, 20)"
      ]
     },
     "execution_count": 17,
     "metadata": {},
     "output_type": "execute_result"
    }
   ],
   "source": [
    "house.shape"
   ]
  },
  {
   "cell_type": "code",
   "execution_count": 18,
   "id": "9ee2f1ee",
   "metadata": {},
   "outputs": [],
   "source": [
    "# Concat both datasets\n",
    "df = pd.concat([flats, house], ignore_index=True)"
   ]
  },
  {
   "cell_type": "code",
   "execution_count": 19,
   "id": "32f0496d",
   "metadata": {},
   "outputs": [
    {
     "data": {
      "text/plain": [
       "(3961, 20)"
      ]
     },
     "execution_count": 19,
     "metadata": {},
     "output_type": "execute_result"
    }
   ],
   "source": [
    "df.shape"
   ]
  },
  {
   "cell_type": "code",
   "execution_count": 20,
   "id": "59b66b3a",
   "metadata": {},
   "outputs": [
    {
     "data": {
      "text/html": [
       "<div>\n",
       "<style scoped>\n",
       "    .dataframe tbody tr th:only-of-type {\n",
       "        vertical-align: middle;\n",
       "    }\n",
       "\n",
       "    .dataframe tbody tr th {\n",
       "        vertical-align: top;\n",
       "    }\n",
       "\n",
       "    .dataframe thead th {\n",
       "        text-align: right;\n",
       "    }\n",
       "</style>\n",
       "<table border=\"1\" class=\"dataframe\">\n",
       "  <thead>\n",
       "    <tr style=\"text-align: right;\">\n",
       "      <th></th>\n",
       "      <th>property_name</th>\n",
       "      <th>property_type</th>\n",
       "      <th>society</th>\n",
       "      <th>price</th>\n",
       "      <th>price_per_sqft</th>\n",
       "      <th>area</th>\n",
       "      <th>areaWithType</th>\n",
       "      <th>bedRoom</th>\n",
       "      <th>bathroom</th>\n",
       "      <th>balcony</th>\n",
       "      <th>additionalRoom</th>\n",
       "      <th>address</th>\n",
       "      <th>floorNum</th>\n",
       "      <th>facing</th>\n",
       "      <th>agePossession</th>\n",
       "      <th>nearbyLocations</th>\n",
       "      <th>description</th>\n",
       "      <th>furnishDetails</th>\n",
       "      <th>features</th>\n",
       "      <th>rating</th>\n",
       "    </tr>\n",
       "  </thead>\n",
       "  <tbody>\n",
       "    <tr>\n",
       "      <th>3073</th>\n",
       "      <td>4 Bedroom House for sale in Sector 109 Gurgaon</td>\n",
       "      <td>house</td>\n",
       "      <td>international city by sobha phase 1</td>\n",
       "      <td>5.70</td>\n",
       "      <td>10556.0</td>\n",
       "      <td>5400.0</td>\n",
       "      <td>Plot area 600(501.68 sq.m.)</td>\n",
       "      <td>4</td>\n",
       "      <td>5</td>\n",
       "      <td>3+</td>\n",
       "      <td>study room,pooja room,servant room,store room</td>\n",
       "      <td>1231231, Sector 109 Gurgaon, Gurgaon, Haryana</td>\n",
       "      <td>3.0</td>\n",
       "      <td>East</td>\n",
       "      <td>1 to 5 Year Old</td>\n",
       "      <td>['Dwarka sector 21 metro station', 'Pacific D2...</td>\n",
       "      <td>Sobha international city is a project by sobha...</td>\n",
       "      <td>['8 Wardrobe', '11 Light', '1 Modular Kitchen'...</td>\n",
       "      <td>['Water purifier', 'Centrally Air Conditioned'...</td>\n",
       "      <td>['Environment5 out of 5', 'Lifestyle4 out of 5...</td>\n",
       "    </tr>\n",
       "    <tr>\n",
       "      <th>2123</th>\n",
       "      <td>3 BHK Flat in Sector 61 Gurgaon</td>\n",
       "      <td>flat</td>\n",
       "      <td>smart world orchard</td>\n",
       "      <td>2.50</td>\n",
       "      <td>16139.0</td>\n",
       "      <td>1549.0</td>\n",
       "      <td>Built Up area: 1549 (143.91 sq.m.)</td>\n",
       "      <td>3</td>\n",
       "      <td>3</td>\n",
       "      <td>1</td>\n",
       "      <td>not available</td>\n",
       "      <td>Sector 61, Sector 61 Gurgaon, Gurgaon, Haryana</td>\n",
       "      <td>1.0</td>\n",
       "      <td>East</td>\n",
       "      <td>undefined</td>\n",
       "      <td>['Sector 55-56 Metro station', 'Bestech Centra...</td>\n",
       "      <td>Best in class property available at sector 61 ...</td>\n",
       "      <td>NaN</td>\n",
       "      <td>NaN</td>\n",
       "      <td>NaN</td>\n",
       "    </tr>\n",
       "    <tr>\n",
       "      <th>997</th>\n",
       "      <td>3 BHK Flat in Sector 81 Gurgaon</td>\n",
       "      <td>flat</td>\n",
       "      <td>bestech park view grand spa</td>\n",
       "      <td>2.25</td>\n",
       "      <td>8458.0</td>\n",
       "      <td>2660.0</td>\n",
       "      <td>Super Built up area 2660(247.12 sq.m.)Built Up...</td>\n",
       "      <td>3</td>\n",
       "      <td>4</td>\n",
       "      <td>3+</td>\n",
       "      <td>servant room,study room,store room</td>\n",
       "      <td>Sector 81 Gurgaon, Gurgaon, Haryana</td>\n",
       "      <td>8.0</td>\n",
       "      <td>West</td>\n",
       "      <td>1 to 5 Year Old</td>\n",
       "      <td>['Sapphire 83 Mall', 'NH-8, IMT Manesar', 'Dwa...</td>\n",
       "      <td>Check out this 3 bhk apartment for sale in bes...</td>\n",
       "      <td>['5 Wardrobe', '9 Fan', '1 Exhaust Fan', '4 Ge...</td>\n",
       "      <td>['Security / Fire Alarm', 'Power Back-up', 'In...</td>\n",
       "      <td>['Green Area5 out of 5', 'Construction5 out of...</td>\n",
       "    </tr>\n",
       "    <tr>\n",
       "      <th>1798</th>\n",
       "      <td>3 BHK Flat in Sector 69 Gurgaon</td>\n",
       "      <td>flat</td>\n",
       "      <td>tulip violet</td>\n",
       "      <td>1.40</td>\n",
       "      <td>8840.0</td>\n",
       "      <td>1584.0</td>\n",
       "      <td>Super Built up area 1578(146.6 sq.m.)</td>\n",
       "      <td>3</td>\n",
       "      <td>3</td>\n",
       "      <td>2</td>\n",
       "      <td>not available</td>\n",
       "      <td>202, Sector 69 Gurgaon, Gurgaon, Haryana</td>\n",
       "      <td>1.0</td>\n",
       "      <td>North-East</td>\n",
       "      <td>1 to 5 Year Old</td>\n",
       "      <td>['Airia Mall Sector 68', 'Southern Peripheral ...</td>\n",
       "      <td>This lovely 3 bhk apartment/flat in sector 69 ...</td>\n",
       "      <td>['1 Modular Kitchen', 'No AC', 'No Bed', 'No C...</td>\n",
       "      <td>['Security / Fire Alarm', 'Power Back-up', 'Fe...</td>\n",
       "      <td>['Green Area5 out of 5', 'Construction4 out of...</td>\n",
       "    </tr>\n",
       "    <tr>\n",
       "      <th>256</th>\n",
       "      <td>3 BHK Flat in Sector 83 Gurgaon</td>\n",
       "      <td>flat</td>\n",
       "      <td>mapsko paradise</td>\n",
       "      <td>0.95</td>\n",
       "      <td>6300.0</td>\n",
       "      <td>1508.0</td>\n",
       "      <td>Carpet area: 1340 (124.49 sq.m.)</td>\n",
       "      <td>3</td>\n",
       "      <td>3</td>\n",
       "      <td>3</td>\n",
       "      <td>not available</td>\n",
       "      <td>Sector 83 Gurgaon, Gurgaon, Haryana</td>\n",
       "      <td>1.0</td>\n",
       "      <td>NaN</td>\n",
       "      <td>5 to 10 Year Old</td>\n",
       "      <td>['Reliance MART, Iris Broadway', 'NH – 8', 'Ci...</td>\n",
       "      <td>We are the proud owners of this 3 bhk apartmen...</td>\n",
       "      <td>NaN</td>\n",
       "      <td>NaN</td>\n",
       "      <td>['Green Area5 out of 5', 'Amenities5 out of 5'...</td>\n",
       "    </tr>\n",
       "  </tbody>\n",
       "</table>\n",
       "</div>"
      ],
      "text/plain": [
       "                                       property_name property_type  \\\n",
       "3073  4 Bedroom House for sale in Sector 109 Gurgaon         house   \n",
       "2123                 3 BHK Flat in Sector 61 Gurgaon          flat   \n",
       "997                  3 BHK Flat in Sector 81 Gurgaon          flat   \n",
       "1798                 3 BHK Flat in Sector 69 Gurgaon          flat   \n",
       "256                  3 BHK Flat in Sector 83 Gurgaon          flat   \n",
       "\n",
       "                                  society  price  price_per_sqft    area  \\\n",
       "3073  international city by sobha phase 1   5.70         10556.0  5400.0   \n",
       "2123                  smart world orchard   2.50         16139.0  1549.0   \n",
       "997           bestech park view grand spa   2.25          8458.0  2660.0   \n",
       "1798                         tulip violet   1.40          8840.0  1584.0   \n",
       "256                       mapsko paradise   0.95          6300.0  1508.0   \n",
       "\n",
       "                                           areaWithType  bedRoom  bathroom  \\\n",
       "3073                        Plot area 600(501.68 sq.m.)        4         5   \n",
       "2123                 Built Up area: 1549 (143.91 sq.m.)        3         3   \n",
       "997   Super Built up area 2660(247.12 sq.m.)Built Up...        3         4   \n",
       "1798              Super Built up area 1578(146.6 sq.m.)        3         3   \n",
       "256                    Carpet area: 1340 (124.49 sq.m.)        3         3   \n",
       "\n",
       "     balcony                                 additionalRoom  \\\n",
       "3073      3+  study room,pooja room,servant room,store room   \n",
       "2123       1                                  not available   \n",
       "997       3+             servant room,study room,store room   \n",
       "1798       2                                  not available   \n",
       "256        3                                  not available   \n",
       "\n",
       "                                             address  floorNum      facing  \\\n",
       "3073   1231231, Sector 109 Gurgaon, Gurgaon, Haryana       3.0        East   \n",
       "2123  Sector 61, Sector 61 Gurgaon, Gurgaon, Haryana       1.0        East   \n",
       "997              Sector 81 Gurgaon, Gurgaon, Haryana       8.0        West   \n",
       "1798        202, Sector 69 Gurgaon, Gurgaon, Haryana       1.0  North-East   \n",
       "256              Sector 83 Gurgaon, Gurgaon, Haryana       1.0         NaN   \n",
       "\n",
       "         agePossession                                    nearbyLocations  \\\n",
       "3073   1 to 5 Year Old  ['Dwarka sector 21 metro station', 'Pacific D2...   \n",
       "2123         undefined  ['Sector 55-56 Metro station', 'Bestech Centra...   \n",
       "997    1 to 5 Year Old  ['Sapphire 83 Mall', 'NH-8, IMT Manesar', 'Dwa...   \n",
       "1798   1 to 5 Year Old  ['Airia Mall Sector 68', 'Southern Peripheral ...   \n",
       "256   5 to 10 Year Old  ['Reliance MART, Iris Broadway', 'NH – 8', 'Ci...   \n",
       "\n",
       "                                            description  \\\n",
       "3073  Sobha international city is a project by sobha...   \n",
       "2123  Best in class property available at sector 61 ...   \n",
       "997   Check out this 3 bhk apartment for sale in bes...   \n",
       "1798  This lovely 3 bhk apartment/flat in sector 69 ...   \n",
       "256   We are the proud owners of this 3 bhk apartmen...   \n",
       "\n",
       "                                         furnishDetails  \\\n",
       "3073  ['8 Wardrobe', '11 Light', '1 Modular Kitchen'...   \n",
       "2123                                                NaN   \n",
       "997   ['5 Wardrobe', '9 Fan', '1 Exhaust Fan', '4 Ge...   \n",
       "1798  ['1 Modular Kitchen', 'No AC', 'No Bed', 'No C...   \n",
       "256                                                 NaN   \n",
       "\n",
       "                                               features  \\\n",
       "3073  ['Water purifier', 'Centrally Air Conditioned'...   \n",
       "2123                                                NaN   \n",
       "997   ['Security / Fire Alarm', 'Power Back-up', 'In...   \n",
       "1798  ['Security / Fire Alarm', 'Power Back-up', 'Fe...   \n",
       "256                                                 NaN   \n",
       "\n",
       "                                                 rating  \n",
       "3073  ['Environment5 out of 5', 'Lifestyle4 out of 5...  \n",
       "2123                                                NaN  \n",
       "997   ['Green Area5 out of 5', 'Construction5 out of...  \n",
       "1798  ['Green Area5 out of 5', 'Construction4 out of...  \n",
       "256   ['Green Area5 out of 5', 'Amenities5 out of 5'...  "
      ]
     },
     "execution_count": 20,
     "metadata": {},
     "output_type": "execute_result"
    }
   ],
   "source": [
    "df.sample(5)"
   ]
  },
  {
   "cell_type": "code",
   "execution_count": 21,
   "id": "435cc1c1",
   "metadata": {},
   "outputs": [],
   "source": [
    "# Sampling the whole data\n",
    "df = df.sample(df.shape[0], ignore_index=True)"
   ]
  },
  {
   "cell_type": "code",
   "execution_count": 24,
   "id": "f7549c64",
   "metadata": {},
   "outputs": [],
   "source": [
    "df.to_csv('../Data/gurgaon_properties.csv')"
   ]
  },
  {
   "cell_type": "code",
   "execution_count": 23,
   "id": "a90bee4e",
   "metadata": {},
   "outputs": [
    {
     "name": "stdout",
     "output_type": "stream",
     "text": [
      "<class 'pandas.core.frame.DataFrame'>\n",
      "RangeIndex: 3961 entries, 0 to 3960\n",
      "Data columns (total 20 columns):\n",
      " #   Column           Non-Null Count  Dtype  \n",
      "---  ------           --------------  -----  \n",
      " 0   property_name    3961 non-null   object \n",
      " 1   property_type    3961 non-null   object \n",
      " 2   society          3960 non-null   object \n",
      " 3   price            3941 non-null   float64\n",
      " 4   price_per_sqft   3941 non-null   float64\n",
      " 5   area             3941 non-null   float64\n",
      " 6   areaWithType     3961 non-null   object \n",
      " 7   bedRoom          3961 non-null   int64  \n",
      " 8   bathroom         3961 non-null   int64  \n",
      " 9   balcony          3961 non-null   object \n",
      " 10  additionalRoom   3961 non-null   object \n",
      " 11  address          3950 non-null   object \n",
      " 12  floorNum         3940 non-null   float64\n",
      " 13  facing           2784 non-null   object \n",
      " 14  agePossession    3960 non-null   object \n",
      " 15  nearbyLocations  3754 non-null   object \n",
      " 16  description      3961 non-null   object \n",
      " 17  furnishDetails   2929 non-null   object \n",
      " 18  features         3252 non-null   object \n",
      " 19  rating           3511 non-null   object \n",
      "dtypes: float64(4), int64(2), object(14)\n",
      "memory usage: 619.0+ KB\n"
     ]
    }
   ],
   "source": [
    "df.info()"
   ]
  }
 ],
 "metadata": {
  "kernelspec": {
   "display_name": "Python 3 (ipykernel)",
   "language": "python",
   "name": "python3"
  },
  "language_info": {
   "codemirror_mode": {
    "name": "ipython",
    "version": 3
   },
   "file_extension": ".py",
   "mimetype": "text/x-python",
   "name": "python",
   "nbconvert_exporter": "python",
   "pygments_lexer": "ipython3",
   "version": "3.9.16"
  }
 },
 "nbformat": 4,
 "nbformat_minor": 5
}
