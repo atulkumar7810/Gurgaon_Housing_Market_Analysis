{
 "cells": [
  {
   "cell_type": "code",
   "execution_count": 106,
   "id": "a0550908",
   "metadata": {},
   "outputs": [],
   "source": [
    "import numpy as np\n",
    "import pandas as pd\n",
    "\n",
    "from sklearn.model_selection import KFold, cross_val_score\n",
    "from sklearn.linear_model import LinearRegression,Ridge\n",
    "from sklearn.pipeline import Pipeline\n",
    "from sklearn.preprocessing import OneHotEncoder, StandardScaler, OrdinalEncoder\n",
    "from sklearn.compose import ColumnTransformer\n",
    "\n",
    "from sklearn.model_selection import train_test_split\n",
    "from sklearn.metrics import mean_absolute_error\n",
    "\n",
    "from sklearn.decomposition import PCA"
   ]
  },
  {
   "cell_type": "code",
   "execution_count": 107,
   "id": "5c3b3145",
   "metadata": {},
   "outputs": [],
   "source": [
    "df = pd.read_csv('../Data_Cleaning/Data/gurgaon_properties_post_feature_selection_v3.csv').drop(columns=['store room', 'floor_category', 'balcony',\"bathroom\",\"servant room\"])"
   ]
  },
  {
   "cell_type": "code",
   "execution_count": 108,
   "id": "218e3a0e",
   "metadata": {},
   "outputs": [
    {
     "data": {
      "text/html": [
       "<div>\n",
       "<style scoped>\n",
       "    .dataframe tbody tr th:only-of-type {\n",
       "        vertical-align: middle;\n",
       "    }\n",
       "\n",
       "    .dataframe tbody tr th {\n",
       "        vertical-align: top;\n",
       "    }\n",
       "\n",
       "    .dataframe thead th {\n",
       "        text-align: right;\n",
       "    }\n",
       "</style>\n",
       "<table border=\"1\" class=\"dataframe\">\n",
       "  <thead>\n",
       "    <tr style=\"text-align: right;\">\n",
       "      <th></th>\n",
       "      <th>property_type</th>\n",
       "      <th>sector</th>\n",
       "      <th>price</th>\n",
       "      <th>bedRoom</th>\n",
       "      <th>agePossession</th>\n",
       "      <th>built_up_area</th>\n",
       "      <th>furnishing_type</th>\n",
       "      <th>luxury_category</th>\n",
       "    </tr>\n",
       "  </thead>\n",
       "  <tbody>\n",
       "    <tr>\n",
       "      <th>0</th>\n",
       "      <td>flat</td>\n",
       "      <td>sector 36</td>\n",
       "      <td>0.82</td>\n",
       "      <td>3.0</td>\n",
       "      <td>New Property</td>\n",
       "      <td>850.0</td>\n",
       "      <td>0.0</td>\n",
       "      <td>Low</td>\n",
       "    </tr>\n",
       "    <tr>\n",
       "      <th>1</th>\n",
       "      <td>flat</td>\n",
       "      <td>sector 89</td>\n",
       "      <td>0.95</td>\n",
       "      <td>2.0</td>\n",
       "      <td>New Property</td>\n",
       "      <td>1226.0</td>\n",
       "      <td>0.0</td>\n",
       "      <td>Low</td>\n",
       "    </tr>\n",
       "    <tr>\n",
       "      <th>2</th>\n",
       "      <td>flat</td>\n",
       "      <td>sohna road</td>\n",
       "      <td>0.32</td>\n",
       "      <td>2.0</td>\n",
       "      <td>New Property</td>\n",
       "      <td>1000.0</td>\n",
       "      <td>0.0</td>\n",
       "      <td>Low</td>\n",
       "    </tr>\n",
       "    <tr>\n",
       "      <th>3</th>\n",
       "      <td>flat</td>\n",
       "      <td>sector 92</td>\n",
       "      <td>1.60</td>\n",
       "      <td>3.0</td>\n",
       "      <td>Relatively New</td>\n",
       "      <td>1615.0</td>\n",
       "      <td>1.0</td>\n",
       "      <td>High</td>\n",
       "    </tr>\n",
       "    <tr>\n",
       "      <th>4</th>\n",
       "      <td>flat</td>\n",
       "      <td>sector 102</td>\n",
       "      <td>0.48</td>\n",
       "      <td>2.0</td>\n",
       "      <td>Relatively New</td>\n",
       "      <td>582.0</td>\n",
       "      <td>0.0</td>\n",
       "      <td>High</td>\n",
       "    </tr>\n",
       "  </tbody>\n",
       "</table>\n",
       "</div>"
      ],
      "text/plain": [
       "  property_type      sector  price  bedRoom   agePossession  built_up_area  \\\n",
       "0          flat   sector 36   0.82      3.0    New Property          850.0   \n",
       "1          flat   sector 89   0.95      2.0    New Property         1226.0   \n",
       "2          flat  sohna road   0.32      2.0    New Property         1000.0   \n",
       "3          flat   sector 92   1.60      3.0  Relatively New         1615.0   \n",
       "4          flat  sector 102   0.48      2.0  Relatively New          582.0   \n",
       "\n",
       "   furnishing_type luxury_category  \n",
       "0              0.0             Low  \n",
       "1              0.0             Low  \n",
       "2              0.0             Low  \n",
       "3              1.0            High  \n",
       "4              0.0            High  "
      ]
     },
     "execution_count": 108,
     "metadata": {},
     "output_type": "execute_result"
    }
   ],
   "source": [
    "df.head()"
   ]
  },
  {
   "cell_type": "code",
   "execution_count": 109,
   "id": "fdfc768d",
   "metadata": {},
   "outputs": [],
   "source": [
    "df['agePossession'] = df['agePossession'].replace({'Relatively New':'new', 'Moderately Old':'old', 'New Property' : 'new', 'Old Property' : 'old', 'Under Construction' : 'under construction'})"
   ]
  },
  {
   "cell_type": "code",
   "execution_count": 110,
   "id": "c6fff69e",
   "metadata": {
    "scrolled": true
   },
   "outputs": [
    {
     "data": {
      "text/html": [
       "<div>\n",
       "<style scoped>\n",
       "    .dataframe tbody tr th:only-of-type {\n",
       "        vertical-align: middle;\n",
       "    }\n",
       "\n",
       "    .dataframe tbody tr th {\n",
       "        vertical-align: top;\n",
       "    }\n",
       "\n",
       "    .dataframe thead th {\n",
       "        text-align: right;\n",
       "    }\n",
       "</style>\n",
       "<table border=\"1\" class=\"dataframe\">\n",
       "  <thead>\n",
       "    <tr style=\"text-align: right;\">\n",
       "      <th></th>\n",
       "      <th>property_type</th>\n",
       "      <th>sector</th>\n",
       "      <th>price</th>\n",
       "      <th>bedRoom</th>\n",
       "      <th>agePossession</th>\n",
       "      <th>built_up_area</th>\n",
       "      <th>furnishing_type</th>\n",
       "      <th>luxury_category</th>\n",
       "    </tr>\n",
       "  </thead>\n",
       "  <tbody>\n",
       "    <tr>\n",
       "      <th>0</th>\n",
       "      <td>flat</td>\n",
       "      <td>sector 36</td>\n",
       "      <td>0.82</td>\n",
       "      <td>3.0</td>\n",
       "      <td>new</td>\n",
       "      <td>850.0</td>\n",
       "      <td>0.0</td>\n",
       "      <td>Low</td>\n",
       "    </tr>\n",
       "    <tr>\n",
       "      <th>1</th>\n",
       "      <td>flat</td>\n",
       "      <td>sector 89</td>\n",
       "      <td>0.95</td>\n",
       "      <td>2.0</td>\n",
       "      <td>new</td>\n",
       "      <td>1226.0</td>\n",
       "      <td>0.0</td>\n",
       "      <td>Low</td>\n",
       "    </tr>\n",
       "    <tr>\n",
       "      <th>2</th>\n",
       "      <td>flat</td>\n",
       "      <td>sohna road</td>\n",
       "      <td>0.32</td>\n",
       "      <td>2.0</td>\n",
       "      <td>new</td>\n",
       "      <td>1000.0</td>\n",
       "      <td>0.0</td>\n",
       "      <td>Low</td>\n",
       "    </tr>\n",
       "    <tr>\n",
       "      <th>3</th>\n",
       "      <td>flat</td>\n",
       "      <td>sector 92</td>\n",
       "      <td>1.60</td>\n",
       "      <td>3.0</td>\n",
       "      <td>new</td>\n",
       "      <td>1615.0</td>\n",
       "      <td>1.0</td>\n",
       "      <td>High</td>\n",
       "    </tr>\n",
       "    <tr>\n",
       "      <th>4</th>\n",
       "      <td>flat</td>\n",
       "      <td>sector 102</td>\n",
       "      <td>0.48</td>\n",
       "      <td>2.0</td>\n",
       "      <td>new</td>\n",
       "      <td>582.0</td>\n",
       "      <td>0.0</td>\n",
       "      <td>High</td>\n",
       "    </tr>\n",
       "  </tbody>\n",
       "</table>\n",
       "</div>"
      ],
      "text/plain": [
       "  property_type      sector  price  bedRoom agePossession  built_up_area  \\\n",
       "0          flat   sector 36   0.82      3.0           new          850.0   \n",
       "1          flat   sector 89   0.95      2.0           new         1226.0   \n",
       "2          flat  sohna road   0.32      2.0           new         1000.0   \n",
       "3          flat   sector 92   1.60      3.0           new         1615.0   \n",
       "4          flat  sector 102   0.48      2.0           new          582.0   \n",
       "\n",
       "   furnishing_type luxury_category  \n",
       "0              0.0             Low  \n",
       "1              0.0             Low  \n",
       "2              0.0             Low  \n",
       "3              1.0            High  \n",
       "4              0.0            High  "
      ]
     },
     "execution_count": 110,
     "metadata": {},
     "output_type": "execute_result"
    }
   ],
   "source": [
    "df.head()"
   ]
  },
  {
   "cell_type": "code",
   "execution_count": 111,
   "id": "fd46c16b",
   "metadata": {},
   "outputs": [],
   "source": [
    "df['property_type'] = df['property_type'].replace({'flat':0,'house':1})"
   ]
  },
  {
   "cell_type": "code",
   "execution_count": 112,
   "id": "47e9a5bc",
   "metadata": {},
   "outputs": [
    {
     "data": {
      "text/html": [
       "<div>\n",
       "<style scoped>\n",
       "    .dataframe tbody tr th:only-of-type {\n",
       "        vertical-align: middle;\n",
       "    }\n",
       "\n",
       "    .dataframe tbody tr th {\n",
       "        vertical-align: top;\n",
       "    }\n",
       "\n",
       "    .dataframe thead th {\n",
       "        text-align: right;\n",
       "    }\n",
       "</style>\n",
       "<table border=\"1\" class=\"dataframe\">\n",
       "  <thead>\n",
       "    <tr style=\"text-align: right;\">\n",
       "      <th></th>\n",
       "      <th>property_type</th>\n",
       "      <th>sector</th>\n",
       "      <th>price</th>\n",
       "      <th>bedRoom</th>\n",
       "      <th>agePossession</th>\n",
       "      <th>built_up_area</th>\n",
       "      <th>furnishing_type</th>\n",
       "      <th>luxury_category</th>\n",
       "    </tr>\n",
       "  </thead>\n",
       "  <tbody>\n",
       "    <tr>\n",
       "      <th>0</th>\n",
       "      <td>0</td>\n",
       "      <td>sector 36</td>\n",
       "      <td>0.82</td>\n",
       "      <td>3.0</td>\n",
       "      <td>new</td>\n",
       "      <td>850.0</td>\n",
       "      <td>0.0</td>\n",
       "      <td>Low</td>\n",
       "    </tr>\n",
       "    <tr>\n",
       "      <th>1</th>\n",
       "      <td>0</td>\n",
       "      <td>sector 89</td>\n",
       "      <td>0.95</td>\n",
       "      <td>2.0</td>\n",
       "      <td>new</td>\n",
       "      <td>1226.0</td>\n",
       "      <td>0.0</td>\n",
       "      <td>Low</td>\n",
       "    </tr>\n",
       "    <tr>\n",
       "      <th>2</th>\n",
       "      <td>0</td>\n",
       "      <td>sohna road</td>\n",
       "      <td>0.32</td>\n",
       "      <td>2.0</td>\n",
       "      <td>new</td>\n",
       "      <td>1000.0</td>\n",
       "      <td>0.0</td>\n",
       "      <td>Low</td>\n",
       "    </tr>\n",
       "    <tr>\n",
       "      <th>3</th>\n",
       "      <td>0</td>\n",
       "      <td>sector 92</td>\n",
       "      <td>1.60</td>\n",
       "      <td>3.0</td>\n",
       "      <td>new</td>\n",
       "      <td>1615.0</td>\n",
       "      <td>1.0</td>\n",
       "      <td>High</td>\n",
       "    </tr>\n",
       "    <tr>\n",
       "      <th>4</th>\n",
       "      <td>0</td>\n",
       "      <td>sector 102</td>\n",
       "      <td>0.48</td>\n",
       "      <td>2.0</td>\n",
       "      <td>new</td>\n",
       "      <td>582.0</td>\n",
       "      <td>0.0</td>\n",
       "      <td>High</td>\n",
       "    </tr>\n",
       "  </tbody>\n",
       "</table>\n",
       "</div>"
      ],
      "text/plain": [
       "   property_type      sector  price  bedRoom agePossession  built_up_area  \\\n",
       "0              0   sector 36   0.82      3.0           new          850.0   \n",
       "1              0   sector 89   0.95      2.0           new         1226.0   \n",
       "2              0  sohna road   0.32      2.0           new         1000.0   \n",
       "3              0   sector 92   1.60      3.0           new         1615.0   \n",
       "4              0  sector 102   0.48      2.0           new          582.0   \n",
       "\n",
       "   furnishing_type luxury_category  \n",
       "0              0.0             Low  \n",
       "1              0.0             Low  \n",
       "2              0.0             Low  \n",
       "3              1.0            High  \n",
       "4              0.0            High  "
      ]
     },
     "execution_count": 112,
     "metadata": {},
     "output_type": "execute_result"
    }
   ],
   "source": [
    "df.head()"
   ]
  },
  {
   "cell_type": "code",
   "execution_count": 113,
   "id": "b69c15a3",
   "metadata": {},
   "outputs": [],
   "source": [
    "df['luxury_category'] = df['luxury_category'].replace({'Low':0,'Medium':1, 'High':2})"
   ]
  },
  {
   "cell_type": "code",
   "execution_count": 114,
   "id": "aed14f67",
   "metadata": {},
   "outputs": [
    {
     "data": {
      "text/html": [
       "<div>\n",
       "<style scoped>\n",
       "    .dataframe tbody tr th:only-of-type {\n",
       "        vertical-align: middle;\n",
       "    }\n",
       "\n",
       "    .dataframe tbody tr th {\n",
       "        vertical-align: top;\n",
       "    }\n",
       "\n",
       "    .dataframe thead th {\n",
       "        text-align: right;\n",
       "    }\n",
       "</style>\n",
       "<table border=\"1\" class=\"dataframe\">\n",
       "  <thead>\n",
       "    <tr style=\"text-align: right;\">\n",
       "      <th></th>\n",
       "      <th>property_type</th>\n",
       "      <th>sector</th>\n",
       "      <th>price</th>\n",
       "      <th>bedRoom</th>\n",
       "      <th>agePossession</th>\n",
       "      <th>built_up_area</th>\n",
       "      <th>furnishing_type</th>\n",
       "      <th>luxury_category</th>\n",
       "    </tr>\n",
       "  </thead>\n",
       "  <tbody>\n",
       "    <tr>\n",
       "      <th>0</th>\n",
       "      <td>0</td>\n",
       "      <td>sector 36</td>\n",
       "      <td>0.82</td>\n",
       "      <td>3.0</td>\n",
       "      <td>new</td>\n",
       "      <td>850.0</td>\n",
       "      <td>0.0</td>\n",
       "      <td>0</td>\n",
       "    </tr>\n",
       "    <tr>\n",
       "      <th>1</th>\n",
       "      <td>0</td>\n",
       "      <td>sector 89</td>\n",
       "      <td>0.95</td>\n",
       "      <td>2.0</td>\n",
       "      <td>new</td>\n",
       "      <td>1226.0</td>\n",
       "      <td>0.0</td>\n",
       "      <td>0</td>\n",
       "    </tr>\n",
       "    <tr>\n",
       "      <th>2</th>\n",
       "      <td>0</td>\n",
       "      <td>sohna road</td>\n",
       "      <td>0.32</td>\n",
       "      <td>2.0</td>\n",
       "      <td>new</td>\n",
       "      <td>1000.0</td>\n",
       "      <td>0.0</td>\n",
       "      <td>0</td>\n",
       "    </tr>\n",
       "    <tr>\n",
       "      <th>3</th>\n",
       "      <td>0</td>\n",
       "      <td>sector 92</td>\n",
       "      <td>1.60</td>\n",
       "      <td>3.0</td>\n",
       "      <td>new</td>\n",
       "      <td>1615.0</td>\n",
       "      <td>1.0</td>\n",
       "      <td>2</td>\n",
       "    </tr>\n",
       "    <tr>\n",
       "      <th>4</th>\n",
       "      <td>0</td>\n",
       "      <td>sector 102</td>\n",
       "      <td>0.48</td>\n",
       "      <td>2.0</td>\n",
       "      <td>new</td>\n",
       "      <td>582.0</td>\n",
       "      <td>0.0</td>\n",
       "      <td>2</td>\n",
       "    </tr>\n",
       "  </tbody>\n",
       "</table>\n",
       "</div>"
      ],
      "text/plain": [
       "   property_type      sector  price  bedRoom agePossession  built_up_area  \\\n",
       "0              0   sector 36   0.82      3.0           new          850.0   \n",
       "1              0   sector 89   0.95      2.0           new         1226.0   \n",
       "2              0  sohna road   0.32      2.0           new         1000.0   \n",
       "3              0   sector 92   1.60      3.0           new         1615.0   \n",
       "4              0  sector 102   0.48      2.0           new          582.0   \n",
       "\n",
       "   furnishing_type  luxury_category  \n",
       "0              0.0                0  \n",
       "1              0.0                0  \n",
       "2              0.0                0  \n",
       "3              1.0                2  \n",
       "4              0.0                2  "
      ]
     },
     "execution_count": 114,
     "metadata": {},
     "output_type": "execute_result"
    }
   ],
   "source": [
    "df.head()"
   ]
  },
  {
   "cell_type": "code",
   "execution_count": 115,
   "id": "809f1e4b",
   "metadata": {},
   "outputs": [],
   "source": [
    "new_df = pd.get_dummies(df, columns=['sector', 'agePossession'], drop_first=True)"
   ]
  },
  {
   "cell_type": "code",
   "execution_count": 116,
   "id": "aa6364fc",
   "metadata": {},
   "outputs": [],
   "source": [
    "X = new_df.drop(columns=['price'])\n",
    "y = new_df['price']"
   ]
  },
  {
   "cell_type": "code",
   "execution_count": 117,
   "id": "817234cf",
   "metadata": {},
   "outputs": [],
   "source": [
    "y_log = np.log1p(y)"
   ]
  },
  {
   "cell_type": "code",
   "execution_count": 118,
   "id": "7ed9bbd2",
   "metadata": {},
   "outputs": [
    {
     "data": {
      "text/plain": [
       "0       0.598837\n",
       "1       0.667829\n",
       "2       0.277632\n",
       "3       0.955511\n",
       "4       0.392042\n",
       "          ...   \n",
       "3549    0.314811\n",
       "3550    1.945910\n",
       "3551    0.470004\n",
       "3552    2.803360\n",
       "3553    1.022451\n",
       "Name: price, Length: 3554, dtype: float64"
      ]
     },
     "execution_count": 118,
     "metadata": {},
     "output_type": "execute_result"
    }
   ],
   "source": [
    "y_log"
   ]
  },
  {
   "cell_type": "code",
   "execution_count": 119,
   "id": "9642d5a6",
   "metadata": {},
   "outputs": [],
   "source": [
    "scaler = StandardScaler()\n",
    "X_scaled = scaler.fit_transform(X)"
   ]
  },
  {
   "cell_type": "code",
   "execution_count": 120,
   "id": "0524d545",
   "metadata": {},
   "outputs": [],
   "source": [
    "X_scaled = pd.DataFrame(X_scaled, columns=X.columns)"
   ]
  },
  {
   "cell_type": "code",
   "execution_count": 121,
   "id": "a3ae2d63",
   "metadata": {},
   "outputs": [],
   "source": [
    "kfold = KFold(n_splits=10, shuffle=True, random_state=20)\n",
    "scores = cross_val_score(LinearRegression(), X_scaled, y_log, cv=kfold, scoring='r2')"
   ]
  },
  {
   "cell_type": "code",
   "execution_count": 122,
   "id": "f57c6122",
   "metadata": {},
   "outputs": [
    {
     "data": {
      "text/plain": [
       "(0.8396764828155492, 0.021080445673704262)"
      ]
     },
     "execution_count": 122,
     "metadata": {},
     "output_type": "execute_result"
    }
   ],
   "source": [
    "scores.mean(), scores.std()"
   ]
  },
  {
   "cell_type": "code",
   "execution_count": 123,
   "id": "af374b98",
   "metadata": {},
   "outputs": [],
   "source": [
    "lr = LinearRegression()"
   ]
  },
  {
   "cell_type": "code",
   "execution_count": 124,
   "id": "c9c56d38",
   "metadata": {},
   "outputs": [
    {
     "data": {
      "text/html": [
       "<style>#sk-container-id-5 {color: black;}#sk-container-id-5 pre{padding: 0;}#sk-container-id-5 div.sk-toggleable {background-color: white;}#sk-container-id-5 label.sk-toggleable__label {cursor: pointer;display: block;width: 100%;margin-bottom: 0;padding: 0.3em;box-sizing: border-box;text-align: center;}#sk-container-id-5 label.sk-toggleable__label-arrow:before {content: \"▸\";float: left;margin-right: 0.25em;color: #696969;}#sk-container-id-5 label.sk-toggleable__label-arrow:hover:before {color: black;}#sk-container-id-5 div.sk-estimator:hover label.sk-toggleable__label-arrow:before {color: black;}#sk-container-id-5 div.sk-toggleable__content {max-height: 0;max-width: 0;overflow: hidden;text-align: left;background-color: #f0f8ff;}#sk-container-id-5 div.sk-toggleable__content pre {margin: 0.2em;color: black;border-radius: 0.25em;background-color: #f0f8ff;}#sk-container-id-5 input.sk-toggleable__control:checked~div.sk-toggleable__content {max-height: 200px;max-width: 100%;overflow: auto;}#sk-container-id-5 input.sk-toggleable__control:checked~label.sk-toggleable__label-arrow:before {content: \"▾\";}#sk-container-id-5 div.sk-estimator input.sk-toggleable__control:checked~label.sk-toggleable__label {background-color: #d4ebff;}#sk-container-id-5 div.sk-label input.sk-toggleable__control:checked~label.sk-toggleable__label {background-color: #d4ebff;}#sk-container-id-5 input.sk-hidden--visually {border: 0;clip: rect(1px 1px 1px 1px);clip: rect(1px, 1px, 1px, 1px);height: 1px;margin: -1px;overflow: hidden;padding: 0;position: absolute;width: 1px;}#sk-container-id-5 div.sk-estimator {font-family: monospace;background-color: #f0f8ff;border: 1px dotted black;border-radius: 0.25em;box-sizing: border-box;margin-bottom: 0.5em;}#sk-container-id-5 div.sk-estimator:hover {background-color: #d4ebff;}#sk-container-id-5 div.sk-parallel-item::after {content: \"\";width: 100%;border-bottom: 1px solid gray;flex-grow: 1;}#sk-container-id-5 div.sk-label:hover label.sk-toggleable__label {background-color: #d4ebff;}#sk-container-id-5 div.sk-serial::before {content: \"\";position: absolute;border-left: 1px solid gray;box-sizing: border-box;top: 0;bottom: 0;left: 50%;z-index: 0;}#sk-container-id-5 div.sk-serial {display: flex;flex-direction: column;align-items: center;background-color: white;padding-right: 0.2em;padding-left: 0.2em;position: relative;}#sk-container-id-5 div.sk-item {position: relative;z-index: 1;}#sk-container-id-5 div.sk-parallel {display: flex;align-items: stretch;justify-content: center;background-color: white;position: relative;}#sk-container-id-5 div.sk-item::before, #sk-container-id-5 div.sk-parallel-item::before {content: \"\";position: absolute;border-left: 1px solid gray;box-sizing: border-box;top: 0;bottom: 0;left: 50%;z-index: -1;}#sk-container-id-5 div.sk-parallel-item {display: flex;flex-direction: column;z-index: 1;position: relative;background-color: white;}#sk-container-id-5 div.sk-parallel-item:first-child::after {align-self: flex-end;width: 50%;}#sk-container-id-5 div.sk-parallel-item:last-child::after {align-self: flex-start;width: 50%;}#sk-container-id-5 div.sk-parallel-item:only-child::after {width: 0;}#sk-container-id-5 div.sk-dashed-wrapped {border: 1px dashed gray;margin: 0 0.4em 0.5em 0.4em;box-sizing: border-box;padding-bottom: 0.4em;background-color: white;}#sk-container-id-5 div.sk-label label {font-family: monospace;font-weight: bold;display: inline-block;line-height: 1.2em;}#sk-container-id-5 div.sk-label-container {text-align: center;}#sk-container-id-5 div.sk-container {/* jupyter's `normalize.less` sets `[hidden] { display: none; }` but bootstrap.min.css set `[hidden] { display: none !important; }` so we also need the `!important` here to be able to override the default hidden behavior on the sphinx rendered scikit-learn.org. See: https://github.com/scikit-learn/scikit-learn/issues/21755 */display: inline-block !important;position: relative;}#sk-container-id-5 div.sk-text-repr-fallback {display: none;}</style><div id=\"sk-container-id-5\" class=\"sk-top-container\"><div class=\"sk-text-repr-fallback\"><pre>LinearRegression()</pre><b>In a Jupyter environment, please rerun this cell to show the HTML representation or trust the notebook. <br />On GitHub, the HTML representation is unable to render, please try loading this page with nbviewer.org.</b></div><div class=\"sk-container\" hidden><div class=\"sk-item\"><div class=\"sk-estimator sk-toggleable\"><input class=\"sk-toggleable__control sk-hidden--visually\" id=\"sk-estimator-id-5\" type=\"checkbox\" checked><label for=\"sk-estimator-id-5\" class=\"sk-toggleable__label sk-toggleable__label-arrow\">LinearRegression</label><div class=\"sk-toggleable__content\"><pre>LinearRegression()</pre></div></div></div></div></div>"
      ],
      "text/plain": [
       "LinearRegression()"
      ]
     },
     "execution_count": 124,
     "metadata": {},
     "output_type": "execute_result"
    }
   ],
   "source": [
    "lr.fit(X_scaled, y_log)"
   ]
  },
  {
   "cell_type": "code",
   "execution_count": 125,
   "id": "38a109dc",
   "metadata": {},
   "outputs": [
    {
     "data": {
      "text/plain": [
       "(110,)"
      ]
     },
     "execution_count": 125,
     "metadata": {},
     "output_type": "execute_result"
    }
   ],
   "source": [
    "lr.coef_.shape"
   ]
  },
  {
   "cell_type": "code",
   "execution_count": 126,
   "id": "fa023600",
   "metadata": {},
   "outputs": [],
   "source": [
    "coef_df = pd.DataFrame(lr.coef_.reshape(1, 110), columns=X.columns).stack().reset_index().drop(columns=['level_0']).rename(columns={'level_1':'feature',0:'coef'})"
   ]
  },
  {
   "cell_type": "code",
   "execution_count": 127,
   "id": "5353d260",
   "metadata": {},
   "outputs": [
    {
     "data": {
      "text/html": [
       "<div>\n",
       "<style scoped>\n",
       "    .dataframe tbody tr th:only-of-type {\n",
       "        vertical-align: middle;\n",
       "    }\n",
       "\n",
       "    .dataframe tbody tr th {\n",
       "        vertical-align: top;\n",
       "    }\n",
       "\n",
       "    .dataframe thead th {\n",
       "        text-align: right;\n",
       "    }\n",
       "</style>\n",
       "<table border=\"1\" class=\"dataframe\">\n",
       "  <thead>\n",
       "    <tr style=\"text-align: right;\">\n",
       "      <th></th>\n",
       "      <th>feature</th>\n",
       "      <th>coef</th>\n",
       "    </tr>\n",
       "  </thead>\n",
       "  <tbody>\n",
       "    <tr>\n",
       "      <th>0</th>\n",
       "      <td>property_type</td>\n",
       "      <td>0.121879</td>\n",
       "    </tr>\n",
       "    <tr>\n",
       "      <th>1</th>\n",
       "      <td>bedRoom</td>\n",
       "      <td>0.106892</td>\n",
       "    </tr>\n",
       "    <tr>\n",
       "      <th>2</th>\n",
       "      <td>built_up_area</td>\n",
       "      <td>0.230820</td>\n",
       "    </tr>\n",
       "    <tr>\n",
       "      <th>3</th>\n",
       "      <td>furnishing_type</td>\n",
       "      <td>0.015292</td>\n",
       "    </tr>\n",
       "    <tr>\n",
       "      <th>4</th>\n",
       "      <td>luxury_category</td>\n",
       "      <td>0.016764</td>\n",
       "    </tr>\n",
       "    <tr>\n",
       "      <th>...</th>\n",
       "      <td>...</td>\n",
       "      <td>...</td>\n",
       "    </tr>\n",
       "    <tr>\n",
       "      <th>105</th>\n",
       "      <td>sector_sector 95</td>\n",
       "      <td>-0.031896</td>\n",
       "    </tr>\n",
       "    <tr>\n",
       "      <th>106</th>\n",
       "      <td>sector_sector 99</td>\n",
       "      <td>-0.011171</td>\n",
       "    </tr>\n",
       "    <tr>\n",
       "      <th>107</th>\n",
       "      <td>sector_sohna road</td>\n",
       "      <td>-0.040403</td>\n",
       "    </tr>\n",
       "    <tr>\n",
       "      <th>108</th>\n",
       "      <td>agePossession_old</td>\n",
       "      <td>-0.011127</td>\n",
       "    </tr>\n",
       "    <tr>\n",
       "      <th>109</th>\n",
       "      <td>agePossession_under construction</td>\n",
       "      <td>0.010351</td>\n",
       "    </tr>\n",
       "  </tbody>\n",
       "</table>\n",
       "<p>110 rows × 2 columns</p>\n",
       "</div>"
      ],
      "text/plain": [
       "                              feature      coef\n",
       "0                       property_type  0.121879\n",
       "1                             bedRoom  0.106892\n",
       "2                       built_up_area  0.230820\n",
       "3                     furnishing_type  0.015292\n",
       "4                     luxury_category  0.016764\n",
       "..                                ...       ...\n",
       "105                  sector_sector 95 -0.031896\n",
       "106                  sector_sector 99 -0.011171\n",
       "107                 sector_sohna road -0.040403\n",
       "108                 agePossession_old -0.011127\n",
       "109  agePossession_under construction  0.010351\n",
       "\n",
       "[110 rows x 2 columns]"
      ]
     },
     "execution_count": 127,
     "metadata": {},
     "output_type": "execute_result"
    }
   ],
   "source": [
    "coef_df"
   ]
  },
  {
   "cell_type": "code",
   "execution_count": 128,
   "id": "85f13127",
   "metadata": {},
   "outputs": [],
   "source": [
    "import statsmodels.api as sm\n",
    "\n",
    "X_with_const = sm.add_constant(X_scaled)\n",
    "model = sm.OLS(y_log, X_with_const).fit()"
   ]
  },
  {
   "cell_type": "code",
   "execution_count": 129,
   "id": "dbf4a6ac",
   "metadata": {
    "scrolled": true
   },
   "outputs": [
    {
     "name": "stdout",
     "output_type": "stream",
     "text": [
      "                            OLS Regression Results                            \n",
      "==============================================================================\n",
      "Dep. Variable:                  price   R-squared:                       0.854\n",
      "Model:                            OLS   Adj. R-squared:                  0.849\n",
      "Method:                 Least Squares   F-statistic:                     182.6\n",
      "Date:                Mon, 04 Mar 2024   Prob (F-statistic):               0.00\n",
      "Time:                        16:52:22   Log-Likelihood:                 446.38\n",
      "No. Observations:                3554   AIC:                            -670.8\n",
      "Df Residuals:                    3443   BIC:                             14.75\n",
      "Df Model:                         110                                         \n",
      "Covariance Type:            nonrobust                                         \n",
      "====================================================================================================\n",
      "                                       coef    std err          t      P>|t|      [0.025      0.975]\n",
      "----------------------------------------------------------------------------------------------------\n",
      "const                                1.0464      0.004    287.709      0.000       1.039       1.054\n",
      "property_type                        0.1219      0.005     22.444      0.000       0.111       0.133\n",
      "bedRoom                              0.1069      0.005     20.419      0.000       0.097       0.117\n",
      "built_up_area                        0.2308      0.005     45.305      0.000       0.221       0.241\n",
      "furnishing_type                      0.0153      0.004      3.636      0.000       0.007       0.024\n",
      "luxury_category                      0.0168      0.004      4.048      0.000       0.009       0.025\n",
      "sector_gwal pahari                   0.0072      0.007      1.088      0.277      -0.006       0.020\n",
      "sector_manesar                      -0.0224      0.008     -2.776      0.006      -0.038      -0.007\n",
      "sector_sector 1                     -0.0063      0.005     -1.292      0.197      -0.016       0.003\n",
      "sector_sector 10                     0.0021      0.005      0.428      0.669      -0.008       0.012\n",
      "sector_sector 102                    0.0263      0.014      1.920      0.055      -0.001       0.053\n",
      "sector_sector 103                   -0.0041      0.009     -0.452      0.651      -0.022       0.014\n",
      "sector_sector 104                    0.0017      0.011      0.150      0.881      -0.020       0.023\n",
      "sector_sector 105                   -0.0238      0.007     -3.448      0.001      -0.037      -0.010\n",
      "sector_sector 106                    0.0031      0.009      0.356      0.722      -0.014       0.020\n",
      "sector_sector 107                   -0.0183      0.011     -1.739      0.082      -0.039       0.002\n",
      "sector_sector 108                    0.0144      0.010      1.382      0.167      -0.006       0.035\n",
      "sector_sector 109                    0.0248      0.012      1.990      0.047       0.000       0.049\n",
      "sector_sector 11                    -0.0200      0.006     -3.141      0.002      -0.032      -0.008\n",
      "sector_sector 110                    0.0082      0.007      1.141      0.254      -0.006       0.022\n",
      "sector_sector 111                    0.0176      0.007      2.489      0.013       0.004       0.031\n",
      "sector_sector 112                    0.0320      0.007      4.437      0.000       0.018       0.046\n",
      "sector_sector 113                    0.0297      0.009      3.239      0.001       0.012       0.048\n",
      "sector_sector 12                    -0.0217      0.008     -2.650      0.008      -0.038      -0.006\n",
      "sector_sector 13                    -0.0128      0.005     -2.379      0.017      -0.023      -0.002\n",
      "sector_sector 14                     0.0247      0.007      3.727      0.000       0.012       0.038\n",
      "sector_sector 15                     0.0009      0.005      0.192      0.848      -0.009       0.010\n",
      "sector_sector 17                     0.0144      0.006      2.608      0.009       0.004       0.025\n",
      "sector_sector 2                      0.0028      0.011      0.263      0.793      -0.018       0.024\n",
      "sector_sector 21                    -0.0110      0.005     -2.277      0.023      -0.021      -0.002\n",
      "sector_sector 22                     0.0341      0.007      4.980      0.000       0.021       0.047\n",
      "sector_sector 23                 -9.166e-05      0.006     -0.015      0.988      -0.012       0.012\n",
      "sector_sector 24                     0.0170      0.007      2.470      0.014       0.004       0.030\n",
      "sector_sector 25                     0.0573      0.009      6.548      0.000       0.040       0.074\n",
      "sector_sector 26                     0.0716      0.009      7.914      0.000       0.054       0.089\n",
      "sector_sector 27                     0.0073      0.004      1.788      0.074      -0.001       0.015\n",
      "sector_sector 28                     0.0408      0.009      4.603      0.000       0.023       0.058\n",
      "sector_sector 3                     -0.0182      0.007     -2.480      0.013      -0.033      -0.004\n",
      "sector_sector 30                     0.0052      0.005      1.107      0.269      -0.004       0.014\n",
      "sector_sector 31                     0.0210      0.006      3.812      0.000       0.010       0.032\n",
      "sector_sector 33                     0.0220      0.011      1.993      0.046       0.000       0.044\n",
      "sector_sector 36                    -0.0024      0.007     -0.345      0.730      -0.016       0.011\n",
      "sector_sector 37                    -0.0139      0.010     -1.398      0.162      -0.033       0.006\n",
      "sector_sector 37d                   -0.0056      0.011     -0.517      0.605      -0.027       0.016\n",
      "sector_sector 38                     0.0129      0.006      2.347      0.019       0.002       0.024\n",
      "sector_sector 39                     0.0011      0.006      0.191      0.849      -0.010       0.012\n",
      "sector_sector 4                     -0.0253      0.009     -2.679      0.007      -0.044      -0.007\n",
      "sector_sector 40                     0.0064      0.005      1.375      0.169      -0.003       0.016\n",
      "sector_sector 41                     0.0170      0.006      2.987      0.003       0.006       0.028\n",
      "sector_sector 43                     0.0602      0.011      5.734      0.000       0.040       0.081\n",
      "sector_sector 45                     0.0288      0.005      5.538      0.000       0.019       0.039\n",
      "sector_sector 46                     0.0139      0.006      2.438      0.015       0.003       0.025\n",
      "sector_sector 47                     0.0132      0.006      2.083      0.037       0.001       0.026\n",
      "sector_sector 48                     0.0538      0.010      5.228      0.000       0.034       0.074\n",
      "sector_sector 49                     0.0303      0.009      3.225      0.001       0.012       0.049\n",
      "sector_sector 5                     -0.0221      0.007     -3.167      0.002      -0.036      -0.008\n",
      "sector_sector 50                     0.0711      0.011      6.591      0.000       0.050       0.092\n",
      "sector_sector 51                    -0.0021      0.005     -0.426      0.670      -0.012       0.008\n",
      "sector_sector 52                     0.0028      0.006      0.458      0.647      -0.009       0.015\n",
      "sector_sector 53                     0.0478      0.006      7.916      0.000       0.036       0.060\n",
      "sector_sector 54                     0.0471      0.008      6.222      0.000       0.032       0.062\n",
      "sector_sector 55                     0.0129      0.006      2.342      0.019       0.002       0.024\n",
      "sector_sector 56                     0.0074      0.010      0.737      0.461      -0.012       0.027\n",
      "sector_sector 57                     0.0253      0.007      3.492      0.000       0.011       0.040\n",
      "sector_sector 58                     0.0240      0.005      4.798      0.000       0.014       0.034\n",
      "sector_sector 59                     0.0312      0.005      6.066      0.000       0.021       0.041\n",
      "sector_sector 6                     -0.0181      0.006     -3.187      0.001      -0.029      -0.007\n",
      "sector_sector 60                     0.0256      0.006      4.126      0.000       0.013       0.038\n",
      "sector_sector 61                     0.0331      0.009      3.696      0.000       0.016       0.051\n",
      "sector_sector 62                     0.0432      0.006      6.830      0.000       0.031       0.056\n",
      "sector_sector 63                     0.0304      0.006      5.025      0.000       0.019       0.042\n",
      "sector_sector 63a                    0.0221      0.006      3.586      0.000       0.010       0.034\n",
      "sector_sector 65                     0.0698      0.012      5.607      0.000       0.045       0.094\n",
      "sector_sector 66                     0.0541      0.009      5.983      0.000       0.036       0.072\n",
      "sector_sector 67                     0.0410      0.010      4.288      0.000       0.022       0.060\n",
      "sector_sector 67a                    0.0047      0.007      0.684      0.494      -0.009       0.018\n",
      "sector_sector 68                     0.0060      0.008      0.755      0.450      -0.010       0.022\n",
      "sector_sector 69                     0.0087      0.013      0.675      0.500      -0.017       0.034\n",
      "sector_sector 7                     -0.0120      0.009     -1.405      0.160      -0.029       0.005\n",
      "sector_sector 70                     0.0100      0.010      1.028      0.304      -0.009       0.029\n",
      "sector_sector 70a                    0.0130      0.010      1.285      0.199      -0.007       0.033\n",
      "sector_sector 71                    -0.0047      0.008     -0.609      0.543      -0.020       0.010\n",
      "sector_sector 72                     0.0320      0.008      4.071      0.000       0.017       0.047\n",
      "sector_sector 73                    -0.0011      0.004     -0.260      0.795      -0.009       0.007\n",
      "sector_sector 74                     0.0174      0.007      2.645      0.008       0.005       0.030\n",
      "sector_sector 76                    -0.0010      0.006     -0.163      0.871      -0.013       0.011\n",
      "sector_sector 77                     0.0003      0.008      0.043      0.966      -0.015       0.015\n",
      "sector_sector 78                    -0.0052      0.006     -0.827      0.408      -0.018       0.007\n",
      "sector_sector 79                     0.0088      0.012      0.745      0.456      -0.014       0.032\n",
      "sector_sector 8                     -0.0140      0.005     -2.771      0.006      -0.024      -0.004\n",
      "sector_sector 80                     0.0009      0.005      0.196      0.845      -0.008       0.010\n",
      "sector_sector 81                     0.0143      0.013      1.147      0.252      -0.010       0.039\n",
      "sector_sector 82                    -0.0010      0.009     -0.107      0.915      -0.019       0.017\n",
      "sector_sector 82a                    0.0071      0.007      1.064      0.287      -0.006       0.020\n",
      "sector_sector 83                    -0.0042      0.011     -0.373      0.709      -0.026       0.018\n",
      "sector_sector 84                    -0.0150      0.010     -1.543      0.123      -0.034       0.004\n",
      "sector_sector 85                     0.0063      0.014      0.458      0.647      -0.021       0.033\n",
      "sector_sector 86                    -0.0070      0.011     -0.655      0.513      -0.028       0.014\n",
      "sector_sector 88                    -0.0009      0.004     -0.210      0.834      -0.009       0.007\n",
      "sector_sector 88a                    0.0041      0.007      0.583      0.560      -0.010       0.018\n",
      "sector_sector 89                    -0.0032      0.010     -0.307      0.759      -0.023       0.017\n",
      "sector_sector 9                     -0.0170      0.007     -2.389      0.017      -0.031      -0.003\n",
      "sector_sector 90                    -0.0159      0.013     -1.263      0.207      -0.041       0.009\n",
      "sector_sector 91                    -0.0020      0.006     -0.310      0.757      -0.015       0.011\n",
      "sector_sector 92                    -0.0355      0.013     -2.677      0.007      -0.061      -0.009\n",
      "sector_sector 93                    -0.0063      0.005     -1.185      0.236      -0.017       0.004\n",
      "sector_sector 95                    -0.0319      0.010     -3.126      0.002      -0.052      -0.012\n",
      "sector_sector 99                    -0.0112      0.009     -1.229      0.219      -0.029       0.007\n",
      "sector_sohna road                   -0.0404      0.017     -2.442      0.015      -0.073      -0.008\n",
      "agePossession_old                   -0.0111      0.005     -2.158      0.031      -0.021      -0.001\n",
      "agePossession_under construction     0.0104      0.004      2.463      0.014       0.002       0.019\n",
      "==============================================================================\n",
      "Omnibus:                      615.444   Durbin-Watson:                   1.933\n",
      "Prob(Omnibus):                  0.000   Jarque-Bera (JB):             5814.455\n",
      "Skew:                          -0.538   Prob(JB):                         0.00\n",
      "Kurtosis:                       9.173   Cond. No.                         35.3\n",
      "==============================================================================\n",
      "\n",
      "Notes:\n",
      "[1] Standard Errors assume that the covariance matrix of the errors is correctly specified.\n"
     ]
    }
   ],
   "source": [
    "print(model.summary())"
   ]
  },
  {
   "cell_type": "code",
   "execution_count": 130,
   "id": "ccf8930c",
   "metadata": {},
   "outputs": [
    {
     "data": {
      "text/plain": [
       "0.5579613263072782"
      ]
     },
     "execution_count": 130,
     "metadata": {},
     "output_type": "execute_result"
    }
   ],
   "source": [
    "y_log.std()"
   ]
  },
  {
   "cell_type": "code",
   "execution_count": 131,
   "id": "752fb0d6",
   "metadata": {},
   "outputs": [],
   "source": [
    "import pickle"
   ]
  },
  {
   "cell_type": "code",
   "execution_count": 132,
   "id": "e818fc00",
   "metadata": {},
   "outputs": [],
   "source": [
    "# with open('coef_df.pkl', 'wb') as file:\n",
    "#     pickle.dump(coef_df, file)"
   ]
  }
 ],
 "metadata": {
  "kernelspec": {
   "display_name": "Python 3 (ipykernel)",
   "language": "python",
   "name": "python3"
  },
  "language_info": {
   "codemirror_mode": {
    "name": "ipython",
    "version": 3
   },
   "file_extension": ".py",
   "mimetype": "text/x-python",
   "name": "python",
   "nbconvert_exporter": "python",
   "pygments_lexer": "ipython3",
   "version": "3.11.5"
  }
 },
 "nbformat": 4,
 "nbformat_minor": 5
}
